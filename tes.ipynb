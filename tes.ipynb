{
 "cells": [
  {
   "cell_type": "code",
   "execution_count": 1,
   "id": "27494c51",
   "metadata": {},
   "outputs": [
    {
     "name": "stdout",
     "output_type": "stream",
     "text": [
      "Current Directory: g:\\My Drive\\BootCamp\\Bootcamp_Web\\Clone\n"
     ]
    }
   ],
   "source": [
    "import os\n",
    "currnet_dir = os.getcwd()\n",
    "\n",
    "print(\"Current Directory:\", currnet_dir)"
   ]
  },
  {
   "cell_type": "code",
   "execution_count": null,
   "id": "d7c108a5",
   "metadata": {},
   "outputs": [],
   "source": []
  }
 ],
 "metadata": {
  "kernelspec": {
   "display_name": "base",
   "language": "python",
   "name": "python3"
  },
  "language_info": {
   "codemirror_mode": {
    "name": "ipython",
    "version": 3
   },
   "file_extension": ".py",
   "mimetype": "text/x-python",
   "name": "python",
   "nbconvert_exporter": "python",
   "pygments_lexer": "ipython3",
   "version": "3.11.7"
  }
 },
 "nbformat": 4,
 "nbformat_minor": 5
}
