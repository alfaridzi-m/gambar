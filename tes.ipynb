{
 "cells": [
  {
   "cell_type": "code",
   "execution_count": 24,
   "id": "9294b1e5",
   "metadata": {},
   "outputs": [],
   "source": [
    "os.chdir(fr\"G:\\My Drive\\BootCamp\\Bootcamp_Web\\Clone\")\n"
   ]
  },
  {
   "cell_type": "code",
   "execution_count": 2,
   "id": "fd926150",
   "metadata": {},
   "outputs": [
    {
     "name": "stdout",
     "output_type": "stream",
     "text": [
      "Auto Download Gambar IFS,WRF,ANGIN,SATELIT!!\n",
      "Hari ini adalah tanggal 16 April 2025 jam 20.30\n",
      "Silahkan tunggu proses download gambar Model analisa\n",
      "=====================================\n",
      "Current dir: g:\\My Drive\\BootCamp\\Bootcamp_Web\\Clone\n",
      "Membuat folder 20250416 baru\n",
      "Folder 20250416 sudah dibuat\n",
      "Pindah ke directory g:\\My Drive\\BootCamp\\Bootcamp_Web\\Clone\\20250416\n",
      "Sedang Download rainrate_ifs0p125_sfc_20250416080000.png\n",
      "Sepertinya link IFS 2025041608 gagal di download\n",
      "Sedang Download rainrate_ifs0p125_sfc_20250416140000.png\n",
      "Sepertinya link IFS 2025041614 gagal di download\n",
      "Sedang Download rainrate_ifs0p125_sfc_20250416200000.png\n",
      "Sepertinya link IFS 2025041620 gagal di download\n",
      "Sedang Download rainrate_ifs0p125_sfc_20250417020000.png\n",
      "Sepertinya link IFS 26_20250416 gagal di download\n",
      "Sedang Download rainrate_wrf10km_sfc_20250416010000.png\n",
      "Sepertinya link wrf 2025041601 gagal di download\n",
      "Sedang Download rainrate_wrf10km_sfc_20250416070000.png\n",
      "Sepertinya link wrf 2025041607 gagal di download\n",
      "Sedang Download rainrate_wrf10km_sfc_20250416130000.png\n",
      "Sepertinya link wrf 2025041613 gagal di download\n",
      "Sedang Download rainrate_wrf10km_sfc_20250416190000.png\n",
      "Sepertinya link wrf 2025041619 gagal di download\n",
      "Gagal mendownload https://web-meteo.bmkg.go.id//media/data/bmkg/Angin3000ft/Streamline_20250416070000.jpg: name 'requests' is not defined\n",
      "Gagal mendownload http://202.90.198.22/IMAGE/HIMA/H08_EH_Sulsel.png: name 'requests' is not defined\n",
      "Gagal mendownload http://web-meteo.bmkg.go.id//media/data/bmkg/mfy/ecmwf/Analisis/sst_anal_sea_dy.png: name 'requests' is not defined\n",
      "Gagal mendownload http://web-meteo.bmkg.go.id//media/data/bmkg/mfy/ecmwf/Analisis/ssta_anal_sea_dy.png: name 'requests' is not defined\n"
     ]
    }
   ],
   "source": [
    "import ssl\n",
    "import urllib.request\n",
    "import time\n",
    "import datetime\n",
    "import os\n",
    "import winsound\n",
    "import shutil\n",
    "\n",
    "\n",
    "try:\n",
    "    _create_unverified_https_context = ssl._create_unverified_context\n",
    "except AttributeError:\n",
    "    # Legacy Python that doesn't verify HTTPS certificates by default\n",
    "    pass\n",
    "else:\n",
    "    # Handle target environment that doesn't support HTTPS verification\n",
    "    ssl._create_default_https_context = _create_unverified_https_context\n",
    "\n",
    "\n",
    "class color:\n",
    "    PURPLE = '\\033[95m'\n",
    "    CYAN = '\\033[96m'\n",
    "    DARKCYAN = '\\033[36m'\n",
    "    BLUE = '\\033[94m'\n",
    "    GREEN = '\\033[92m'\n",
    "    YELLOW = '\\033[93m'\n",
    "    RED = '\\033[91m'\n",
    "    BOLD = '\\033[1m'\n",
    "    UNDERLINE = '\\033[4m'\n",
    "    END = '\\033[0m'\n",
    "\n",
    "now = datetime.datetime.now()\n",
    "sekarang = now.strftime('%d %B %Y jam %H.%M')\n",
    "\n",
    "start =time.time()\n",
    "print(f\"{'Auto Download Gambar IFS,WRF,ANGIN,SATELIT!!'}\")\n",
    "print(f'Hari ini adalah tanggal {sekarang}')\n",
    "print(\"Silahkan tunggu proses download gambar Model analisa\")\n",
    "\n",
    "tanggal = datetime.date.today().strftime('%Y%m%d')\n",
    "xs = datetime.date.today() + datetime.timedelta(days=1)\n",
    "tanggal2 = xs.strftime('%Y%m%d')\n",
    "print(\"=====================================\")\n",
    "\n",
    "current_dir = os.getcwd()\n",
    "folder_path = os.path.join(current_dir, tanggal)\n",
    "\n",
    "print(f\"Current dir: {current_dir}\")\n",
    "if os.path.exists(folder_path):\n",
    "    print(f\"Folder {tanggal} sudah ada\")\n",
    "    shutil.rmtree(tanggal)\n",
    "    print(f\"Folder {tanggal} sudah dihapus\")\n",
    "\n",
    "print(f\"Membuat folder {tanggal} baru\")\n",
    "os.mkdir(folder_path)\n",
    "print(f\"Folder {tanggal} sudah dibuat\")\n",
    "\n",
    "os.chdir(folder_path)\n",
    "print(f\"Pindah ke directory {folder_path}\")\n",
    "\n",
    "\n",
    "# print(f\"hari ini tanggal {xs}\")\n",
    "opener = urllib.request.URLopener()\n",
    "opener.addheader('User-Agent', 'Mozilla/5.0 (Windows NT 10.0; Win64; x64) AppleWebKit/537.36 (KHTML, like Gecko) Chrome/97.0.4692.99 Safari/537.36')\n",
    "opener.addheader('Accept', 'text/html,application/xhtml+xml,application/xml;q=0.9,image/webp,*/*;q=0.8')\n",
    "opener.addheader('Accept-Language', 'en-US,en;q=0.5')\n",
    "\n",
    "def program1(tanggal,tanggal2):\n",
    "    j = ['08','14','20']\n",
    "    for jam1 in j:\n",
    "        ifs = f\"https://web-meteo.bmkg.go.id//media/data/bmkg/mfy/ecmwf/prakiraan/Backup/RAIN/rainrate_ifs0p125_sfc_{tanggal}{jam1}0000.png\"\n",
    "        # print(ifs)\n",
    "        try:\n",
    "            filenameonly = os.path.basename(ifs)\n",
    "            print(fr\"Sedang Download {filenameonly}\")\n",
    "            opener.retrieve(ifs, fr'ifs' + jam1 + '_' + tanggal + '.png')\n",
    "            print(fr\"ifs\" + jam1 + '_' + tanggal + '.png' + \" sudah di download\")\n",
    "        except:\n",
    "            print(fr\"Sepertinya link IFS {tanggal}{jam1} gagal di download\")\n",
    "\n",
    "    jam02 = f\"https://web-meteo.bmkg.go.id//media/data/bmkg/mfy/ecmwf/prakiraan/Backup/RAIN/rainrate_ifs0p125_sfc_{tanggal2}020000.png\"\n",
    "    try:\n",
    "        filenameonly = os.path.basename(jam02)\n",
    "        print(fr\"Sedang Download {filenameonly}\")\n",
    "        opener.retrieve(jam02, fr'ifs' + \"26\" + '_' + tanggal + '.png')\n",
    "        print(fr'ifs' + \"26\" + '_' + tanggal + '.png' +  \"sudah di download\")\n",
    "    except:\n",
    "        print(fr\"Sepertinya link IFS 26_{tanggal} gagal di download\")\n",
    "        \n",
    "    j2 = ['01','07','13','19']\n",
    "    for jam2 in j2:\n",
    "        wrf = f\"https://web-meteo.bmkg.go.id//media/data/bmkg/mfy/wrf/prakiraan/RAIN/rainrate_wrf10km_sfc_{tanggal}{jam2}0000.png\"\n",
    "        # print(wrf)\n",
    "        try:\n",
    "            filenameonly = os.path.basename(wrf)\n",
    "            print(fr\"Sedang Download {filenameonly}\")\n",
    "            opener.retrieve(wrf, fr'wrf' + jam2 + '_' + tanggal + '.png')\n",
    "            print(fr'wrf' + jam2 + '_' + tanggal + '.png' + \" sudah di download\")\n",
    "        except:\n",
    "            print(fr\"Sepertinya link wrf {tanggal}{jam2} gagal di download\")\n",
    "\n",
    "    angin = f\"https://web-meteo.bmkg.go.id//media/data/bmkg/Angin3000ft/Streamline_{tanggal}070000.jpg\"\n",
    "    satelit = \"http://202.90.198.22/IMAGE/HIMA/H08_EH_Sulsel.png\"\n",
    "    sst = \"http://web-meteo.bmkg.go.id//media/data/bmkg/mfy/ecmwf/Analisis/sst_anal_sea_dy.png\"\n",
    "    sstano = \"http://web-meteo.bmkg.go.id//media/data/bmkg/mfy/ecmwf/Analisis/ssta_anal_sea_dy.png\"\n",
    "\n",
    "    # Loop through the list of URLs and download each file\n",
    "    for url in [angin, satelit, sst, sstano]:\n",
    "        try:\n",
    "            filename = os.path.basename(url)\n",
    "            response = requests.get(url, allow_redirects=True)\n",
    "            with open(filename, 'wb') as file:\n",
    "                file.write(response.content)\n",
    "            print(f'{filename} sudah di download')\n",
    "        except Exception as e:\n",
    "            print(f'Gagal mendownload {url}: {e}')\n",
    "\n",
    "program1(tanggal,tanggal2)\n",
    "os.chdir(fr\"G:\\My Drive\\BootCamp\\Bootcamp_Web\\Clone\")\n"
   ]
  },
  {
   "cell_type": "code",
   "execution_count": 18,
   "id": "ed2a85c9",
   "metadata": {},
   "outputs": [
    {
     "name": "stdout",
     "output_type": "stream",
     "text": [
      "Download file dari BOM\n",
      "IDY20108.mslp-precip.012.png sudah di download\n",
      "IDY20108.mslp-precip.018.png sudah di download\n",
      "IDY20108.mslp-precip.024.png sudah di download\n",
      "IDY20108.mslp-precip.030.png sudah di download\n",
      "IDY20108.RH-850hPa.012.png sudah di download\n",
      "IDY20108.RH-850hPa.024.png sudah di download\n",
      "IDY20108.RH-700hPa.012.png sudah di download\n",
      "IDY20108.RH-700hPa.024.png sudah di download\n",
      "IDY20108.RH-500hPa.024.png sudah di download\n",
      "IDY20108.RH-500hPa.012.png sudah di download\n",
      "=====================================\n"
     ]
    }
   ],
   "source": [
    "def bomfile():\n",
    "\trh850_00= \"http://www.bom.gov.au/charts_data/IDY20108/current/RH/850hPa/IDY20108.RH-850hPa.012.png\"\n",
    "\trh850_12 = \"http://www.bom.gov.au/charts_data/IDY20108/current/RH/850hPa/IDY20108.RH-850hPa.024.png\"\n",
    "\trh700_00= \"http://www.bom.gov.au/charts_data/IDY20108/current/RH/700hPa/IDY20108.RH-700hPa.012.png\"\n",
    "\trh700_12 = \"http://www.bom.gov.au/charts_data/IDY20108/current/RH/700hPa/IDY20108.RH-700hPa.024.png\"\n",
    "\trh500_00= \"http://www.bom.gov.au/charts_data/IDY20108/current/RH/500hPa/IDY20108.RH-500hPa.024.png\"\n",
    "\trh500_12 = \"http://www.bom.gov.au/charts_data/IDY20108/current/RH/500hPa/IDY20108.RH-500hPa.012.png\"\n",
    "\trr_t12 = \"http://www.bom.gov.au/charts_data/IDY20108/current/mslp-precip/IDY20108.mslp-precip.012.png\"\n",
    "\trr_t18 = \"http://www.bom.gov.au/charts_data/IDY20108/current/mslp-precip/IDY20108.mslp-precip.018.png\"\n",
    "\trr_t24 = \"http://www.bom.gov.au/charts_data/IDY20108/current/mslp-precip/IDY20108.mslp-precip.024.png\"\n",
    "\trr_t30 = \"http://www.bom.gov.au/charts_data/IDY20108/current/mslp-precip/IDY20108.mslp-precip.030.png\"\n",
    "\n",
    "\t# Loop through the list of BOM URLs and download each file\n",
    "\tfor url in [rr_t12, rr_t18, rr_t24, rr_t30, rh850_00, rh850_12, rh700_00, rh700_12, rh500_00, rh500_12]:\n",
    "\t\ttry:\n",
    "\t\t\tfilename = os.path.basename(url)\n",
    "\t\t\tfilenamewithoutext = os.path.splitext(filename)[0]\n",
    "\t\t\topener.retrieve(url, fr'{filenamewithoutext}'+'.png')\n",
    "\t\t\tprint(f'{filename} sudah di download')\n",
    "\t\texcept Exception as e:\n",
    "\t\t\tprint(f'Gagal mendownload {url}: {e}')\n",
    "\n",
    "print(\"Download file dari BOM\")\n",
    "bomfile()\n",
    "\n",
    "print(\"=====================================\")"
   ]
  },
  {
   "cell_type": "code",
   "execution_count": 33,
   "id": "eb55c1b0",
   "metadata": {},
   "outputs": [
    {
     "ename": "FileNotFoundError",
     "evalue": "[WinError 3] The system cannot find the path specified: 'G:\\\\My Drive\\\\BootCamp\\\\Bootcamp_Web\\\\Clone\\\\20250414\\\\modelifs20250414'",
     "output_type": "error",
     "traceback": [
      "\u001b[31m---------------------------------------------------------------------------\u001b[39m",
      "\u001b[31mFileNotFoundError\u001b[39m                         Traceback (most recent call last)",
      "\u001b[36mCell\u001b[39m\u001b[36m \u001b[39m\u001b[32mIn[33]\u001b[39m\u001b[32m, line 122\u001b[39m\n\u001b[32m    119\u001b[39m         \u001b[38;5;28;01mexcept\u001b[39;00m:\n\u001b[32m    120\u001b[39m             \u001b[38;5;28mprint\u001b[39m(\u001b[33mfr\u001b[39m\u001b[33m\"\u001b[39m\u001b[38;5;132;01m{\u001b[39;00mfilenamewithoutext\u001b[38;5;132;01m}\u001b[39;00m\u001b[33m gagal di download\u001b[39m\u001b[33m\"\u001b[39m)\n\u001b[32m--> \u001b[39m\u001b[32m122\u001b[39m \u001b[43mprogram2\u001b[49m\u001b[43m(\u001b[49m\u001b[43mtanggal\u001b[49m\u001b[43m,\u001b[49m\u001b[43mtanggal2\u001b[49m\u001b[43m)\u001b[49m\n\u001b[32m    123\u001b[39m \u001b[38;5;28mprint\u001b[39m(\u001b[33m\"\u001b[39m\u001b[33m=====================================\u001b[39m\u001b[33m\"\u001b[39m)\n",
      "\u001b[36mCell\u001b[39m\u001b[36m \u001b[39m\u001b[32mIn[33]\u001b[39m\u001b[32m, line 3\u001b[39m, in \u001b[36mprogram2\u001b[39m\u001b[34m(tanggal, tanggal2)\u001b[39m\n\u001b[32m      1\u001b[39m \u001b[38;5;28;01mdef\u001b[39;00m\u001b[38;5;250m \u001b[39m\u001b[34mprogram2\u001b[39m(tanggal,tanggal2):\n\u001b[32m      2\u001b[39m     directory = \u001b[38;5;28mstr\u001b[39m(tanggal)\n\u001b[32m----> \u001b[39m\u001b[32m3\u001b[39m     \u001b[43mos\u001b[49m\u001b[43m.\u001b[49m\u001b[43mmkdir\u001b[49m\u001b[43m(\u001b[49m\u001b[33;43mfr\u001b[39;49m\u001b[33;43m'\u001b[39;49m\u001b[38;5;132;43;01m{\u001b[39;49;00m\u001b[43mcurrent_dir\u001b[49m\u001b[38;5;132;43;01m}\u001b[39;49;00m\u001b[33;43m\\\u001b[39;49m\u001b[38;5;132;43;01m{\u001b[39;49;00m\u001b[43mtanggal\u001b[49m\u001b[38;5;132;43;01m}\u001b[39;49;00m\u001b[33;43m\\\u001b[39;49m\u001b[33;43mmodelifs\u001b[39;49m\u001b[38;5;132;43;01m{\u001b[39;49;00m\u001b[43mdirectory\u001b[49m\u001b[38;5;132;43;01m}\u001b[39;49;00m\u001b[33;43m'\u001b[39;49m\u001b[43m)\u001b[49m\n\u001b[32m      4\u001b[39m     os.mkdir(\u001b[33mfr\u001b[39m\u001b[33m'\u001b[39m\u001b[38;5;132;01m{\u001b[39;00mcurrent_dir\u001b[38;5;132;01m}\u001b[39;00m\u001b[33m\\\u001b[39m\u001b[38;5;132;01m{\u001b[39;00mtanggal\u001b[38;5;132;01m}\u001b[39;00m\u001b[33m\\\u001b[39m\u001b[33mmodelwrf\u001b[39m\u001b[38;5;132;01m{\u001b[39;00mdirectory\u001b[38;5;132;01m}\u001b[39;00m\u001b[33m'\u001b[39m)\n\u001b[32m      5\u001b[39m     os.mkdir(\u001b[33mfr\u001b[39m\u001b[33m'\u001b[39m\u001b[38;5;132;01m{\u001b[39;00mcurrent_dir\u001b[38;5;132;01m}\u001b[39;00m\u001b[33m\\\u001b[39m\u001b[38;5;132;01m{\u001b[39;00mtanggal\u001b[38;5;132;01m}\u001b[39;00m\u001b[33m\\\u001b[39m\u001b[33mesembeldanprobabilistic\u001b[39m\u001b[38;5;132;01m{\u001b[39;00mdirectory\u001b[38;5;132;01m}\u001b[39;00m\u001b[33m'\u001b[39m)\n",
      "\u001b[31mFileNotFoundError\u001b[39m: [WinError 3] The system cannot find the path specified: 'G:\\\\My Drive\\\\BootCamp\\\\Bootcamp_Web\\\\Clone\\\\20250414\\\\modelifs20250414'"
     ]
    }
   ],
   "source": [
    "def program2(tanggal,tanggal2):\n",
    "    directory = str(tanggal)\n",
    "    os.mkdir(fr'{current_dir}\\{tanggal}\\modelifs{directory}')\n",
    "    os.mkdir(fr'{current_dir}\\{tanggal}\\modelwrf{directory}')\n",
    "    os.mkdir(fr'{current_dir}\\{tanggal}\\esembeldanprobabilistic{directory}')\n",
    "\n",
    "    #Rain Rate hourly\n",
    "    j = [f'{hour:02}' for hour in range(8, 24)]\n",
    "    for jam1 in j:\n",
    "        ifs = f\"https://web-meteo.bmkg.go.id//media/data/bmkg/mfy/ecmwf/prakiraan/Backup/RAIN/rainrate_ifs0p125_sfc_{tanggal}{jam1}0000.png\"\n",
    "        wrf = f\"https://web-meteo.bmkg.go.id//media/data/bmkg/mfy/wrf/prakiraan/RAIN/rainrate_wrf10km_sfc_{tanggal}{jam1}0000.png\"\n",
    "        try:\n",
    "            filenameonlywrf = os.path.basename(wrf)\n",
    "            filenamewithoutextwrf = os.path.splitext(filenameonlywrf)[0]\n",
    "            opener.retrieve(wrf, fr\"{current_dir}\\{tanggal}\\modelwrf{directory}\\{filenamewithoutextwrf}\" + '.png')\n",
    "            print(fr\"{filenamewithoutextwrf} sudah di download\")\n",
    "        except:\n",
    "            print(fr\"{filenamewithoutextwrf} gagal di download\")\n",
    "        \n",
    "        try:\n",
    "            filenameonlyifs = os.path.basename(ifs)\n",
    "            filenamewithoutextifs = os.path.splitext(filenameonlyifs)[0]\n",
    "            opener.retrieve(ifs, fr\"{current_dir}\\{tanggal}\\modelifs{directory}\\{filenamewithoutextifs}\" + '.png')\n",
    "            print(fr\"{filenamewithoutextifs} sudah di download\")\n",
    "        except:\n",
    "            print(fr\"{filenamewithoutextifs} gagal di download\")\n",
    "\n",
    "    xx = [f'{hour:02}' for hour in range(8)]\n",
    "    for k in xx:\n",
    "        ifsxx = f\"https://web-meteo.bmkg.go.id//media/data/bmkg/mfy/ecmwf/prakiraan/Backup/RAIN/rainrate_ifs0p125_sfc_{tanggal2}{k}0000.png\"\n",
    "        wrfxx = f\"https://web-meteo.bmkg.go.id//media/data/bmkg/mfy/wrf/prakiraan/RAIN/rainrate_wrf10km_sfc_{tanggal}{k}0000.png\"\n",
    "\n",
    "        try:\n",
    "            filenameonlywrf = os.path.basename(wrfxx)\n",
    "            filenamewithoutextwrf = os.path.splitext(filenameonlywrf)[0]\n",
    "            opener.retrieve(wrfxx, fr\"{current_dir}\\{tanggal}\\modelwrf{directory}\\{filenamewithoutextwrf}\" + '.png')\n",
    "            print(fr\"{filenamewithoutextwrf} sudah di download\")\n",
    "        except:\n",
    "            print(fr\"{filenamewithoutextwrf} gagal di download\")\n",
    "        \n",
    "        try:\n",
    "            filenameonlyifs = os.path.basename(ifsxx)\n",
    "            filenamewithoutextifs = os.path.splitext(filenameonlyifs)[0]\n",
    "            opener.retrieve(ifsxx, fr\"{current_dir}\\{tanggal}\\modelifs{directory}\\{filenamewithoutextifs}\" + '.png')\n",
    "            print(fr\"{filenamewithoutextifs} sudah di download\")\n",
    "        except:\n",
    "            print(fr\"{filenamewithoutextifs} gagal di download\")\n",
    "\n",
    "    #RH\n",
    "    j = ['00', '03', '06', '09', '12', '15', '18', '21']\n",
    "    for jam1 in j:\n",
    "        lapisan = [\"850\", \"700\", \"500\"]\n",
    "        for lapisan2 in lapisan:\n",
    "            rhifs = f\"https://web-meteo.bmkg.go.id//media/data/bmkg/mfy/ecmwf/prakiraan/Backup/RH/rh_ifs0p125_{lapisan2}mb_{tanggal}{jam1}0000.png\"\n",
    "            rhwrf = f\"https://web-meteo.bmkg.go.id//media/data/bmkg/mfy/wrf/prakiraan/RH/rh_wrf10km_{lapisan2}mb_{tanggal}{jam1}0000.png\"\n",
    "            try:\n",
    "                filenameonlyifs = os.path.basename(rhifs)\n",
    "                filenamewithoutextifs = os.path.splitext(filenameonlyifs)[0]\n",
    "                opener.retrieve(rhifs, fr\"{current_dir}\\{tanggal}\\modelifs{directory}\\{filenamewithoutextifs}\" + '.png')\n",
    "                print(fr\"{filenamewithoutextifs} sudah di download\")\n",
    "            except:\n",
    "                print(fr\"{filenamewithoutextifs} gagal di download\")\n",
    "            try:\n",
    "                filenameonlywrf = os.path.basename(rhwrf)\n",
    "                filenamewithoutextwrf = os.path.splitext(filenameonlywrf)[0]\n",
    "                opener.retrieve(rhwrf, fr\"{current_dir}\\{tanggal}\\modelwrf{directory}\\{filenamewithoutextwrf}\" + '.png')\n",
    "                print(fr\"{filenamewithoutextwrf} sudah di download\")\n",
    "            except:\n",
    "                print(fr\"{filenamewithoutextwrf} gagal di download\")\n",
    "\n",
    "    #indeks\n",
    "    j = ['00', '03', '06', '09', '12', '15', '18', '21']\n",
    "    for jam1 in j:\n",
    "        indeks = [\"KI\", \"LI\", \"SI\"]\n",
    "        for indeks2 in indeks:\n",
    "            indeks3 = indeks2.lower()\n",
    "            labilifs = f\"https://web-meteo.bmkg.go.id//media/data/bmkg/mfy/ecmwf/prakiraan/Backup/{indeks2}/{indeks3}_ifs0p125_sfc_{tanggal}{jam1}0000.png\"\n",
    "            labilifswrf = f\"https://web-meteo.bmkg.go.id//media/data/bmkg/mfy/wrf/prakiraan/{indeks2}/{indeks3}_wrf10km_sfc_{tanggal}{jam1}0000.png\"\n",
    "            try:\n",
    "                filenameonlyifs = os.path.basename(labilifs)\n",
    "                filenamewithoutextifs = os.path.splitext(filenameonlyifs)[0]\n",
    "                opener.retrieve(labilifs, fr\"{current_dir}\\{tanggal}\\modelifs{directory}\\{filenamewithoutextifs}\" + '.png')\n",
    "                print(fr\"{filenamewithoutextifs} sudah di download\")\n",
    "            except:\n",
    "                print(fr\"{filenamewithoutextifs} gagal di download\")\n",
    "            try:\n",
    "                filenameonlywrf = os.path.basename(labilifswrf)\n",
    "                filenamewithoutextwrf = os.path.splitext(filenameonlywrf)[0]\n",
    "                opener.retrieve(labilifswrf, fr\"{current_dir}\\{tanggal}\\modelwrf{directory}\\{filenamewithoutextwrf}\" + '.png')\n",
    "                print(fr\"{filenamewithoutextwrf} sudah di download\")\n",
    "            except:\n",
    "                print(fr\"{filenamewithoutextwrf} gagal di download\")\n",
    "\n",
    "    #probabilistic dan esembel model\n",
    "    poe20 = f\"https://web-meteo.bmkg.go.id//media/data/bmkg/probabilistic//POE20_24hrprec_{tanggal}000000_ifs.png\"\n",
    "    poe10 = f\"https://web-meteo.bmkg.go.id//media/data/bmkg/probabilistic//POE10_24hrprec_{tanggal}000000_ifs.png\"\n",
    "    poe5 = f\"https://web-meteo.bmkg.go.id//media/data/bmkg/probabilistic//POE5_24hrprec_{tanggal}000000_ifs.png\"\n",
    "    emeanaccessgt = f\"https://web-meteo.bmkg.go.id//media/data/bmkg/probabilistic//Emean_24hrprec_{tanggal}000000_accessgt.png\"\n",
    "    emeangefs = f\"https://web-meteo.bmkg.go.id//media/data/bmkg/probabilistic//Emean_24hrprec_{tanggal}000000_gefs.png\"\n",
    "    emeanifs = f\"https://web-meteo.bmkg.go.id//media/data/bmkg/probabilistic//Emean_24hrprec_{tanggal}000000_ifs.png\"\n",
    "\n",
    "    uu = [poe20,poe10,poe5]\n",
    "    for nn in uu:\n",
    "        try:\n",
    "            filenameonly = os.path.basename(nn)\n",
    "            filenamewithoutext = os.path.splitext(filenameonly)[0]\n",
    "            opener.retrieve(nn, fr\"{current_dir}\\{tanggal}\\esembeldanprobabilistic{directory}\\{filenamewithoutext}\" + '.png')\n",
    "            print(fr\"{filenamewithoutext} sudah di download\")\n",
    "        except:\n",
    "            print(fr\"{filenamewithoutext} gagal di download\")\n",
    "\n",
    "    yy = [emeanifs, emeangefs, emeanaccessgt]\n",
    "    for nn in yy:\n",
    "        try:\n",
    "            filenameonly = os.path.basename(nn)\n",
    "            filenamewithoutext = os.path.splitext(filenameonly)[0]\n",
    "            opener.retrieve(nn, fr\"{current_dir}\\{tanggal}\\esembeldanprobabilistic{directory}\\{filenamewithoutext}\" + '.png')\n",
    "            print(fr\"{filenamewithoutext} sudah di download\")\n",
    "        except:\n",
    "            print(fr\"{filenamewithoutext} gagal di download\")\n",
    "\n",
    "program2(tanggal,tanggal2)\n",
    "print(\"=====================================\")"
   ]
  },
  {
   "cell_type": "code",
   "execution_count": 10,
   "id": "01e3c6dc",
   "metadata": {},
   "outputs": [
    {
     "name": "stderr",
     "output_type": "stream",
     "text": [
      "Exception ignored in: <http.client.HTTPResponse object at 0x000002655CAD7370>\n",
      "Traceback (most recent call last):\n",
      "  File \"c:\\Users\\alfar\\AppData\\Local\\Programs\\Python\\Python313\\Lib\\http\\client.py\", line 432, in close\n",
      "    super().close() # set \"closed\" flag\n",
      "  File \"c:\\Users\\alfar\\AppData\\Local\\Programs\\Python\\Python313\\Lib\\http\\client.py\", line 445, in flush\n",
      "    self.fp.flush()\n",
      "ValueError: I/O operation on closed file.\n"
     ]
    },
    {
     "name": "stdout",
     "output_type": "stream",
     "text": [
      "POE20_24hrprec_20250416000000_ifs sudah di download\n",
      "POE10_24hrprec_20250416000000_is gagal di download Karena file HTTP Error 404: Not Found\n",
      "POE5_24hrprec_20250416000000_ifs sudah di download\n"
     ]
    }
   ],
   "source": [
    "poe20 = f\"https://web-meteo.bmkg.go.id//media/data/bmkg/probabilistic//POE20_24hrprec_{tanggal}000000_ifs.png\"\n",
    "poe10 = f\"https://web-meteo.bmkg.go.id//media/data/bmkg/probabilistic//POE10_24hrprec_{tanggal}000000_is.png\"\n",
    "poe5 = f\"https://web-meteo.bmkg.go.id//media/data/bmkg/probabilistic//POE5_24hrprec_{tanggal}000000_ifs.png\"\n",
    "emeanaccessgt = f\"https://web-meteo.bmkg.go.id//media/data/bmkg/probabilistic//Emean_24hrprec_{tanggal}000000_accessgt.png\"\n",
    "emeangefs = f\"https://web-meteo.bmkg.go.id//media/data/bmkg/probabilistic//Emean_24hrprec_{tanggal}000000_gefs.png\"\n",
    "emeanifs = f\"https://web-meteo.bmkg.go.id//media/data/bmkg/probabilistic//Emean_24hrprec_{tanggal}000000_ifs.png\"\n",
    "uu = [poe20,poe10,poe5]\n",
    "for nn in uu:\n",
    "    try:\n",
    "        filenameonly = os.path.basename(nn)\n",
    "        filenamewithoutext = os.path.splitext(filenameonly)[0]\n",
    "        opener.retrieve(nn, fr\"{current_dir}\\{filenamewithoutext}\" + '.png')\n",
    "        print(fr\"{filenamewithoutext} sudah di download\")\n",
    "    except Exception as e:            \n",
    "        print(fr\"{filenamewithoutext} gagal di download Karena file {e}\")"
   ]
  },
  {
   "cell_type": "code",
   "execution_count": 26,
   "id": "27494c51",
   "metadata": {},
   "outputs": [
    {
     "name": "stdout",
     "output_type": "stream",
     "text": [
      "jam ['08', '09', '10', '11', '12', '13', '14', '15', '16', '17', '18', '19', '20', '21', '22', '23']\n"
     ]
    }
   ],
   "source": [
    "j = [f'{hour:02}' for hour in range(8, 24)]\n",
    "print(f\"jam {j}\")"
   ]
  },
  {
   "cell_type": "code",
   "execution_count": 17,
   "id": "d3a38362",
   "metadata": {},
   "outputs": [
    {
     "name": "stdout",
     "output_type": "stream",
     "text": [
      " The program was ended\n"
     ]
    }
   ],
   "source": [
    "import pyttsx3\n",
    "\n",
    "# Inisialisasi text-to-speech engine\n",
    "engine = pyttsx3.init()\n",
    "engine.setProperty('rate', 150)  # kecepatan bicara (opsional)\n",
    "\n",
    "print(f\" The program was ended\")\n",
    "engine.say(f\"done!\")\n",
    "engine.runAndWait()"
   ]
  },
  {
   "cell_type": "code",
   "execution_count": 21,
   "id": "4beaacba",
   "metadata": {},
   "outputs": [],
   "source": [
    "import pyttsx3\n",
    "\n",
    "engine = pyttsx3.init()\n",
    "voices = engine.getProperty('voices')\n",
    "\n",
    "# Pilih suara cewek bahasa Indonesia (cek hasil print dulu)\n",
    "engine.setProperty('voice', voices[1].id)  # GANTI sesuai hasil cek\n",
    "engine.setProperty('rate', 150)\n",
    "\n",
    "engine.say(\"process download ended\")\n",
    "engine.runAndWait()"
   ]
  },
  {
   "cell_type": "code",
   "execution_count": null,
   "id": "d7c108a5",
   "metadata": {},
   "outputs": [],
   "source": [
    "poe20 = \"https://web-meteo.bmkg.go.id//media/data/bmkg/probabilistic//POE20_24hrprec_\" + tanggal + \"000000_ifs.png\"\n",
    "poe10 = \"https://web-meteo.bmkg.go.id//media/data/bmkg/probabilistic//POE10_24hrprec_\" + tanggal + \"000000_ifs.png\"\n",
    "poe24 = \"https://web-meteo.bmkg.go.id//media/data/bmkg/probabilistic//POE5_24hrprec_\" + tanggal + \"000000_ifs.png\""
   ]
  },
  {
   "cell_type": "code",
   "execution_count": 55,
   "id": "1b30bd2f",
   "metadata": {},
   "outputs": [
    {
     "name": "stderr",
     "output_type": "stream",
     "text": [
      "\n",
      "    Error 263 for command:\n",
      "        open sukses.mp3\n",
      "    The specified device is not open or is not recognized by MCI.\n",
      "\n",
      "    Error 263 for command:\n",
      "        close sukses.mp3\n",
      "    The specified device is not open or is not recognized by MCI.\n",
      "Failed to close the file: sukses.mp3\n"
     ]
    },
    {
     "ename": "PlaysoundException",
     "evalue": "\n    Error 263 for command:\n        open sukses.mp3\n    The specified device is not open or is not recognized by MCI.",
     "output_type": "error",
     "traceback": [
      "\u001b[31m---------------------------------------------------------------------------\u001b[39m",
      "\u001b[31mPlaysoundException\u001b[39m                        Traceback (most recent call last)",
      "\u001b[36mCell\u001b[39m\u001b[36m \u001b[39m\u001b[32mIn[55]\u001b[39m\u001b[32m, line 2\u001b[39m\n\u001b[32m      1\u001b[39m \u001b[38;5;28;01mimport\u001b[39;00m\u001b[38;5;250m \u001b[39m\u001b[34;01mplaysound\u001b[39;00m\n\u001b[32m----> \u001b[39m\u001b[32m2\u001b[39m \u001b[43mplaysound\u001b[49m\u001b[43m.\u001b[49m\u001b[43mplaysound\u001b[49m\u001b[43m(\u001b[49m\u001b[33;43m\"\u001b[39;49m\u001b[33;43msukses.mp3\u001b[39;49m\u001b[33;43m\"\u001b[39;49m\u001b[43m)\u001b[49m\n",
      "\u001b[36mFile \u001b[39m\u001b[32mc:\\Users\\alfar\\AppData\\Local\\Programs\\Python\\Python313\\Lib\\site-packages\\playsound.py:72\u001b[39m, in \u001b[36m_playsoundWin\u001b[39m\u001b[34m(sound, block)\u001b[39m\n\u001b[32m     70\u001b[39m \u001b[38;5;28;01mtry\u001b[39;00m:\n\u001b[32m     71\u001b[39m     logger.debug(\u001b[33m'\u001b[39m\u001b[33mStarting\u001b[39m\u001b[33m'\u001b[39m)\n\u001b[32m---> \u001b[39m\u001b[32m72\u001b[39m     \u001b[43mwinCommand\u001b[49m\u001b[43m(\u001b[49m\u001b[33;43mu\u001b[39;49m\u001b[33;43m'\u001b[39;49m\u001b[33;43mopen \u001b[39;49m\u001b[38;5;132;43;01m{}\u001b[39;49;00m\u001b[33;43m'\u001b[39;49m\u001b[43m.\u001b[49m\u001b[43mformat\u001b[49m\u001b[43m(\u001b[49m\u001b[43msound\u001b[49m\u001b[43m)\u001b[49m\u001b[43m)\u001b[49m\n\u001b[32m     73\u001b[39m     winCommand(\u001b[33mu\u001b[39m\u001b[33m'\u001b[39m\u001b[33mplay \u001b[39m\u001b[38;5;132;01m{}\u001b[39;00m\u001b[38;5;132;01m{}\u001b[39;00m\u001b[33m'\u001b[39m.format(sound, \u001b[33m'\u001b[39m\u001b[33m wait\u001b[39m\u001b[33m'\u001b[39m \u001b[38;5;28;01mif\u001b[39;00m block \u001b[38;5;28;01melse\u001b[39;00m \u001b[33m'\u001b[39m\u001b[33m'\u001b[39m))\n\u001b[32m     74\u001b[39m     logger.debug(\u001b[33m'\u001b[39m\u001b[33mReturning\u001b[39m\u001b[33m'\u001b[39m)\n",
      "\u001b[36mFile \u001b[39m\u001b[32mc:\\Users\\alfar\\AppData\\Local\\Programs\\Python\\Python313\\Lib\\site-packages\\playsound.py:64\u001b[39m, in \u001b[36m_playsoundWin.<locals>.winCommand\u001b[39m\u001b[34m(*command)\u001b[39m\n\u001b[32m     60\u001b[39m     exceptionMessage = (\u001b[33m'\u001b[39m\u001b[38;5;130;01m\\n\u001b[39;00m\u001b[33m    Error \u001b[39m\u001b[33m'\u001b[39m + \u001b[38;5;28mstr\u001b[39m(errorCode) + \u001b[33m'\u001b[39m\u001b[33m for command:\u001b[39m\u001b[33m'\u001b[39m\n\u001b[32m     61\u001b[39m                         \u001b[33m'\u001b[39m\u001b[38;5;130;01m\\n\u001b[39;00m\u001b[33m        \u001b[39m\u001b[33m'\u001b[39m + command.decode(\u001b[33m'\u001b[39m\u001b[33mutf-16\u001b[39m\u001b[33m'\u001b[39m) +\n\u001b[32m     62\u001b[39m                         \u001b[33m'\u001b[39m\u001b[38;5;130;01m\\n\u001b[39;00m\u001b[33m    \u001b[39m\u001b[33m'\u001b[39m + errorBuffer.raw.decode(\u001b[33m'\u001b[39m\u001b[33mutf-16\u001b[39m\u001b[33m'\u001b[39m).rstrip(\u001b[33m'\u001b[39m\u001b[38;5;130;01m\\0\u001b[39;00m\u001b[33m'\u001b[39m))\n\u001b[32m     63\u001b[39m     logger.error(exceptionMessage)\n\u001b[32m---> \u001b[39m\u001b[32m64\u001b[39m     \u001b[38;5;28;01mraise\u001b[39;00m PlaysoundException(exceptionMessage)\n\u001b[32m     65\u001b[39m \u001b[38;5;28;01mreturn\u001b[39;00m buf.value\n",
      "\u001b[31mPlaysoundException\u001b[39m: \n    Error 263 for command:\n        open sukses.mp3\n    The specified device is not open or is not recognized by MCI."
     ]
    }
   ],
   "source": [
    "import playsound\n",
    "playsound.playsound(\"sukses.mp3\")"
   ]
  },
  {
   "cell_type": "code",
   "execution_count": 47,
   "id": "1dcac3c5",
   "metadata": {},
   "outputs": [
    {
     "name": "stdout",
     "output_type": "stream",
     "text": [
      "16 April 2025\n",
      "Berhasil menyimpan file audio\n",
      "Berhasil menyimpan file audio\n",
      "Berhasil menyimpan file audio\n",
      "Berhasil menyimpan file audio\n",
      "Berhasil menyimpan file audio\n"
     ]
    },
    {
     "name": "stderr",
     "output_type": "stream",
     "text": [
      "\n",
      "    Error 263 for command:\n",
      "        open sukses.mp3\n",
      "    The specified device is not open or is not recognized by MCI.\n",
      "\n",
      "    Error 263 for command:\n",
      "        close sukses.mp3\n",
      "    The specified device is not open or is not recognized by MCI.\n",
      "Failed to close the file: sukses.mp3\n"
     ]
    },
    {
     "ename": "PlaysoundException",
     "evalue": "\n    Error 263 for command:\n        open sukses.mp3\n    The specified device is not open or is not recognized by MCI.",
     "output_type": "error",
     "traceback": [
      "\u001b[31m---------------------------------------------------------------------------\u001b[39m",
      "\u001b[31mPlaysoundException\u001b[39m                        Traceback (most recent call last)",
      "\u001b[36mCell\u001b[39m\u001b[36m \u001b[39m\u001b[32mIn[47]\u001b[39m\u001b[32m, line 17\u001b[39m\n\u001b[32m     15\u001b[39m \u001b[38;5;28mprint\u001b[39m(\u001b[33m\"\u001b[39m\u001b[33mBerhasil menyimpan file audio\u001b[39m\u001b[33m\"\u001b[39m)\n\u001b[32m     16\u001b[39m \u001b[38;5;28mprint\u001b[39m(\u001b[33m\"\u001b[39m\u001b[33mBerhasil menyimpan file audio\u001b[39m\u001b[33m\"\u001b[39m)\n\u001b[32m---> \u001b[39m\u001b[32m17\u001b[39m \u001b[43mplaysound\u001b[49m\u001b[43m.\u001b[49m\u001b[43mplaysound\u001b[49m\u001b[43m(\u001b[49m\u001b[33;43m\"\u001b[39;49m\u001b[33;43msukses.mp3\u001b[39;49m\u001b[33;43m\"\u001b[39;49m\u001b[43m)\u001b[49m\n\u001b[32m     18\u001b[39m \u001b[38;5;66;03m# playsound.playsound(\"sukses.mp3\")\u001b[39;00m\n\u001b[32m     19\u001b[39m os.remove(\u001b[33m\"\u001b[39m\u001b[33msukses.mp3\u001b[39m\u001b[33m\"\u001b[39m)  \u001b[38;5;66;03m# Hapus file setelah diputar\u001b[39;00m\n",
      "\u001b[36mFile \u001b[39m\u001b[32mc:\\Users\\alfar\\AppData\\Local\\Programs\\Python\\Python313\\Lib\\site-packages\\playsound.py:72\u001b[39m, in \u001b[36m_playsoundWin\u001b[39m\u001b[34m(sound, block)\u001b[39m\n\u001b[32m     70\u001b[39m \u001b[38;5;28;01mtry\u001b[39;00m:\n\u001b[32m     71\u001b[39m     logger.debug(\u001b[33m'\u001b[39m\u001b[33mStarting\u001b[39m\u001b[33m'\u001b[39m)\n\u001b[32m---> \u001b[39m\u001b[32m72\u001b[39m     \u001b[43mwinCommand\u001b[49m\u001b[43m(\u001b[49m\u001b[33;43mu\u001b[39;49m\u001b[33;43m'\u001b[39;49m\u001b[33;43mopen \u001b[39;49m\u001b[38;5;132;43;01m{}\u001b[39;49;00m\u001b[33;43m'\u001b[39;49m\u001b[43m.\u001b[49m\u001b[43mformat\u001b[49m\u001b[43m(\u001b[49m\u001b[43msound\u001b[49m\u001b[43m)\u001b[49m\u001b[43m)\u001b[49m\n\u001b[32m     73\u001b[39m     winCommand(\u001b[33mu\u001b[39m\u001b[33m'\u001b[39m\u001b[33mplay \u001b[39m\u001b[38;5;132;01m{}\u001b[39;00m\u001b[38;5;132;01m{}\u001b[39;00m\u001b[33m'\u001b[39m.format(sound, \u001b[33m'\u001b[39m\u001b[33m wait\u001b[39m\u001b[33m'\u001b[39m \u001b[38;5;28;01mif\u001b[39;00m block \u001b[38;5;28;01melse\u001b[39;00m \u001b[33m'\u001b[39m\u001b[33m'\u001b[39m))\n\u001b[32m     74\u001b[39m     logger.debug(\u001b[33m'\u001b[39m\u001b[33mReturning\u001b[39m\u001b[33m'\u001b[39m)\n",
      "\u001b[36mFile \u001b[39m\u001b[32mc:\\Users\\alfar\\AppData\\Local\\Programs\\Python\\Python313\\Lib\\site-packages\\playsound.py:64\u001b[39m, in \u001b[36m_playsoundWin.<locals>.winCommand\u001b[39m\u001b[34m(*command)\u001b[39m\n\u001b[32m     60\u001b[39m     exceptionMessage = (\u001b[33m'\u001b[39m\u001b[38;5;130;01m\\n\u001b[39;00m\u001b[33m    Error \u001b[39m\u001b[33m'\u001b[39m + \u001b[38;5;28mstr\u001b[39m(errorCode) + \u001b[33m'\u001b[39m\u001b[33m for command:\u001b[39m\u001b[33m'\u001b[39m\n\u001b[32m     61\u001b[39m                         \u001b[33m'\u001b[39m\u001b[38;5;130;01m\\n\u001b[39;00m\u001b[33m        \u001b[39m\u001b[33m'\u001b[39m + command.decode(\u001b[33m'\u001b[39m\u001b[33mutf-16\u001b[39m\u001b[33m'\u001b[39m) +\n\u001b[32m     62\u001b[39m                         \u001b[33m'\u001b[39m\u001b[38;5;130;01m\\n\u001b[39;00m\u001b[33m    \u001b[39m\u001b[33m'\u001b[39m + errorBuffer.raw.decode(\u001b[33m'\u001b[39m\u001b[33mutf-16\u001b[39m\u001b[33m'\u001b[39m).rstrip(\u001b[33m'\u001b[39m\u001b[38;5;130;01m\\0\u001b[39;00m\u001b[33m'\u001b[39m))\n\u001b[32m     63\u001b[39m     logger.error(exceptionMessage)\n\u001b[32m---> \u001b[39m\u001b[32m64\u001b[39m     \u001b[38;5;28;01mraise\u001b[39;00m PlaysoundException(exceptionMessage)\n\u001b[32m     65\u001b[39m \u001b[38;5;28;01mreturn\u001b[39;00m buf.value\n",
      "\u001b[31mPlaysoundException\u001b[39m: \n    Error 263 for command:\n        open sukses.mp3\n    The specified device is not open or is not recognized by MCI."
     ]
    }
   ],
   "source": [
    "from gtts import gTTS\n",
    "import playsound\n",
    "\n",
    "now = datetime.datetime.now()\n",
    "now = now.strftime('%d %B %Y')\n",
    "print(now)\n",
    "\n",
    "\n",
    "teks = fr\"Program ended {now}, press enter to open folder\"\n",
    "tts = gTTS(text=teks, lang='en', slow=False)\n",
    "tts.save(\"sukses.mp3\")\n",
    "print(\"Berhasil menyimpan file audio\")\n",
    "print(\"Berhasil menyimpan file audio\")\n",
    "print(\"Berhasil menyimpan file audio\")\n",
    "print(\"Berhasil menyimpan file audio\")\n",
    "print(\"Berhasil menyimpan file audio\")\n",
    "playsound.playsound(\"sukses.mp3\")\n",
    "# playsound.playsound(\"sukses.mp3\")\n",
    "os.remove(\"sukses.mp3\")  # Hapus file setelah diputar"
   ]
  },
  {
   "cell_type": "code",
   "execution_count": null,
   "id": "2d51e6c5",
   "metadata": {},
   "outputs": [
    {
     "name": "stdout",
     "output_type": "stream",
     "text": [
      "16 April 2025\n"
     ]
    }
   ],
   "source": [
    "now = datetime.datetime.now()\n",
    "now = now.strftime('%d %B %Y')\n",
    "print(now)\n",
    "\n"
   ]
  },
  {
   "cell_type": "code",
   "execution_count": null,
   "id": "9785827e",
   "metadata": {},
   "outputs": [],
   "source": [
    "uu = [poe20, poe10, poe24]\n",
    "for nn in uu:\n",
    "    try:\n",
    "        filename = os.path.basename(nn)  # ambil nama file dari URL\n",
    "        filenameonly = os.path.basename(nn)\n",
    "        filenameonly = filenameonly.replace('.png', '.jpg')\n",
    "        print(filenameonly)\n",
    "        opener.retrieve(nn, fr'F:\\KANTOR\\gambar\\esembeldanprobabilistic{directory}\\{filename}')\n",
    "    except:\n",
    "        print(fr\"{nn} Belum ada \")\n"
   ]
  }
 ],
 "metadata": {
  "kernelspec": {
   "display_name": "Python 3",
   "language": "python",
   "name": "python3"
  },
  "language_info": {
   "codemirror_mode": {
    "name": "ipython",
    "version": 3
   },
   "file_extension": ".py",
   "mimetype": "text/x-python",
   "name": "python",
   "nbconvert_exporter": "python",
   "pygments_lexer": "ipython3",
   "version": "3.13.3"
  }
 },
 "nbformat": 4,
 "nbformat_minor": 5
}
