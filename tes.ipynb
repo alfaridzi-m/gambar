{
 "cells": [
  {
   "cell_type": "code",
   "execution_count": 3,
   "id": "9294b1e5",
   "metadata": {},
   "outputs": [
    {
     "name": "stdout",
     "output_type": "stream",
     "text": [
      "G:\\My Drive\\BootCamp\\Bootcamp_Web\\Clone\n"
     ]
    }
   ],
   "source": [
    "os.chdir(fr\"G:\\My Drive\\BootCamp\\Bootcamp_Web\\Clone\")\n",
    "print(os.getcwd())\n",
    "os.mkdir(tanggal)"
   ]
  },
  {
   "cell_type": "code",
   "execution_count": null,
   "id": "fd926150",
   "metadata": {},
   "outputs": [
    {
     "name": "stdout",
     "output_type": "stream",
     "text": [
      "Auto Download Gambar IFS,WRF,ANGIN,SATELIT!!\n",
      "Hari ini adalah tanggal 14 April 2025 jam 01.16\n",
      "Silahkan tunggu proses download gambar Model analisa\n",
      "=====================================\n",
      "Current dir: G:\\My Drive\\BootCamp\\Bootcamp_Web\\Clone\n",
      "Folder 20250414 sudah ada\n",
      "Folder 20250414 sudah dihapus\n",
      "Membuat folder 20250414 baru\n",
      "Folder 20250414 sudah dibuat\n",
      "Pindah ke directory G:\\My Drive\\BootCamp\\Bootcamp_Web\\Clone\\20250414\n",
      "https://web-meteo.bmkg.go.id//media/data/bmkg/mfy/ecmwf/prakiraan/Backup/RAIN/rainrate_ifs0p125_sfc_20250414080000.png\n",
      "https://web-meteo.bmkg.go.id//media/data/bmkg/mfy/ecmwf/prakiraan/Backup/RAIN/rainrate_ifs0p125_sfc_20250414140000.png\n",
      "https://web-meteo.bmkg.go.id//media/data/bmkg/mfy/ecmwf/prakiraan/Backup/RAIN/rainrate_ifs0p125_sfc_20250414200000.png\n",
      "https://web-meteo.bmkg.go.id//media/data/bmkg/mfy/wrf/prakiraan/RAIN/rainrate_wrf10km_sfc_20250414010000.png\n",
      "https://web-meteo.bmkg.go.id//media/data/bmkg/mfy/wrf/prakiraan/RAIN/rainrate_wrf10km_sfc_20250414070000.png\n",
      "https://web-meteo.bmkg.go.id//media/data/bmkg/mfy/wrf/prakiraan/RAIN/rainrate_wrf10km_sfc_20250414130000.png\n",
      "https://web-meteo.bmkg.go.id//media/data/bmkg/mfy/wrf/prakiraan/RAIN/rainrate_wrf10km_sfc_20250414190000.png\n",
      "=====================================\n"
     ]
    }
   ],
   "source": [
    "import ssl\n",
    "import urllib.request\n",
    "import time\n",
    "import datetime\n",
    "import os\n",
    "import winsound\n",
    "import shutil\n",
    "\n",
    "\n",
    "try:\n",
    "    _create_unverified_https_context = ssl._create_unverified_context\n",
    "except AttributeError:\n",
    "    # Legacy Python that doesn't verify HTTPS certificates by default\n",
    "    pass\n",
    "else:\n",
    "    # Handle target environment that doesn't support HTTPS verification\n",
    "    ssl._create_default_https_context = _create_unverified_https_context\n",
    "\n",
    "\n",
    "class color:\n",
    "    PURPLE = '\\033[95m'\n",
    "    CYAN = '\\033[96m'\n",
    "    DARKCYAN = '\\033[36m'\n",
    "    BLUE = '\\033[94m'\n",
    "    GREEN = '\\033[92m'\n",
    "    YELLOW = '\\033[93m'\n",
    "    RED = '\\033[91m'\n",
    "    BOLD = '\\033[1m'\n",
    "    UNDERLINE = '\\033[4m'\n",
    "    END = '\\033[0m'\n",
    "\n",
    "now = datetime.datetime.now()\n",
    "sekarang = now.strftime('%d %B %Y jam %H.%M')\n",
    "\n",
    "start =time.time()\n",
    "print(f\"{'Auto Download Gambar IFS,WRF,ANGIN,SATELIT!!'}\")\n",
    "print(f'Hari ini adalah tanggal {sekarang}')\n",
    "print(\"Silahkan tunggu proses download gambar Model analisa\")\n",
    "\n",
    "tanggal = datetime.date.today().strftime('%Y%m%d')\n",
    "xs = datetime.date.today() + datetime.timedelta(days=1)\n",
    "tanggal2 = xs.strftime('%Y%m%d')\n",
    "print(\"=====================================\")\n",
    "\n",
    "current_dir = os.getcwd()\n",
    "folder_path = os.path.join(current_dir, tanggal)\n",
    "\n",
    "print(f\"Current dir: {current_dir}\")\n",
    "if os.path.exists(folder_path):\n",
    "    print(f\"Folder {tanggal} sudah ada\")\n",
    "    os.rmdir(folder_path)\n",
    "    print(f\"Folder {tanggal} sudah dihapus\")\n",
    "\n",
    "print(f\"Membuat folder {tanggal} baru\")\n",
    "os.mkdir(folder_path)\n",
    "print(f\"Folder {tanggal} sudah dibuat\")\n",
    "\n",
    "os.chdir(folder_path)\n",
    "print(f\"Pindah ke directory {folder_path}\")\n",
    "\n",
    "\n",
    "# print(f\"hari ini tanggal {xs}\")\n",
    "opener = urllib.request.URLopener()\n",
    "opener.addheader('User-Agent', 'Mozilla/5.0 (Windows NT 10.0; Win64; x64) AppleWebKit/537.36 (KHTML, like Gecko) Chrome/97.0.4692.99 Safari/537.36')\n",
    "opener.addheader('Accept', 'text/html,application/xhtml+xml,application/xml;q=0.9,image/webp,*/*;q=0.8')\n",
    "opener.addheader('Accept-Language', 'en-US,en;q=0.5')\n",
    "\n",
    "def program1(tanggal,tanggal2):\n",
    "    j = ['08','14','20']\n",
    "    for jam1 in j:\n",
    "        ifs = \"https://web-meteo.bmkg.go.id//media/data/bmkg/mfy/ecmwf/prakiraan/Backup/RAIN/rainrate_ifs0p125_sfc_\" + tanggal + jam1 + \"0000.png\"\n",
    "        # print(ifs)\n",
    "        try:\n",
    "            filenameonly = os.path.basename(jam1)\n",
    "            print(fr\"Sedang Download {filenameonly}\")\n",
    "            opener.retrieve(ifs, fr'ifs' + jam1 + '_' + tanggal + '.webp')\n",
    "            print(fr\"ifs\" + jam1 + '_' + tanggal + '.png' + \" sudah di download\")\n",
    "        except:\n",
    "            print(fr\"Sepertinya link IFS {tanggal}{jam1} gagal di download\")\n",
    "\n",
    "    jam02 = \"https://web-meteo.bmkg.go.id//media/data/bmkg/mfy/ecmwf/prakiraan/Backup/RAIN/rainrate_ifs0p125_sfc_\" + tanggal2 + \"020000.png\"\n",
    "    try:\n",
    "        filenameonly = os.path.basename(jam02)\n",
    "        print(fr\"Sedang Download {filenameonly}\")\n",
    "        opener.retrieve(jam02, fr'ifs' + \"26\" + '_' + tanggal + '.png')\n",
    "        print(fr'ifs' + \"26\" + '_' + tanggal + '.webp' +  \"sudah di download\")\n",
    "    except:\n",
    "        print(fr\"Sepertinya link IFS 26_{tanggal} gagal di download\")\n",
    "        \n",
    "    j2 = ['01','07','13','19']\n",
    "    for jam2 in j2:\n",
    "        wrf = \"https://web-meteo.bmkg.go.id//media/data/bmkg/mfy/wrf/prakiraan/RAIN/rainrate_wrf10km_sfc_\" + tanggal + jam2 + \"0000.png\"\n",
    "        # print(wrf)\n",
    "        try:\n",
    "            filenameonly = os.path.basename(jam2)\n",
    "            print(fr\"Sedang Download {filenameonly}\")\n",
    "            opener.retrieve(wrf, fr'wrf' + jam2 + '_' + tanggal + '.png')\n",
    "            print(fr'wrf' + jam2 + '_' + tanggal + '.png' + \" sudah di download\")\n",
    "        except:\n",
    "            print(fr\"Sepertinya link wrf {tanggal}{jam2} gagal di download\")\n",
    "\n",
    "program1(tanggal,tanggal2)\n",
    "os.chdir(fr\"G:\\My Drive\\BootCamp\\Bootcamp_Web\\Clone\")\n",
    "\n",
    "print(\"=====================================\")\n",
    "\n"
   ]
  },
  {
   "cell_type": "code",
   "execution_count": 12,
   "id": "eb55c1b0",
   "metadata": {},
   "outputs": [
    {
     "name": "stdout",
     "output_type": "stream",
     "text": [
      "\\ifs20250414.webp\n",
      "G:\\My Drive\\BootCamp\\Bootcamp_Web\\Clone\n"
     ]
    }
   ],
   "source": [
    "print(fr\"\\ifs{tanggal}.webp\")\n",
    "print(currnet_dir)"
   ]
  },
  {
   "cell_type": "code",
   "execution_count": 1,
   "id": "01e3c6dc",
   "metadata": {},
   "outputs": [],
   "source": [
    "import ssl\n",
    "import urllib.request\n",
    "import time\n",
    "import datetime\n",
    "import os\n",
    "import winsound"
   ]
  },
  {
   "cell_type": "code",
   "execution_count": 2,
   "id": "27494c51",
   "metadata": {},
   "outputs": [
    {
     "name": "stdout",
     "output_type": "stream",
     "text": [
      "Folder 20250414 created\n",
      "Changed directory to 20250414\n",
      "Current directory is g:\\My Drive\\BootCamp\\Bootcamp_Web\\Clone\\20250414\n"
     ]
    }
   ],
   "source": [
    "import os\n",
    "import datetime\n",
    "currnet_dir = os.getcwd()\n",
    "\n",
    "tanggal = datetime.date.today().strftime('%Y%m%d')\n",
    "os.mkdir(fr'{tanggal}'); print(f'Folder {tanggal} created')\n",
    "os.chdir(fr'{tanggal}'); print(f'Changed directory to {tanggal}')\n",
    "currnet_dir2 = os.getcwd()\n",
    "print(f'Current directory is {currnet_dir2}')\n",
    "\n"
   ]
  },
  {
   "cell_type": "code",
   "execution_count": 3,
   "id": "d3a38362",
   "metadata": {},
   "outputs": [
    {
     "name": "stdout",
     "output_type": "stream",
     "text": [
      "Auto Download Gambar IFS,WRF,ANGIN,SATELIT!!\n"
     ]
    }
   ],
   "source": [
    "import datetime\n",
    "import time\n",
    "now = datetime.datetime.now()\n",
    "sekarang = now.strftime('%d %B %Y jam %H.%M')\n",
    "\n",
    "start =time.time()\n",
    "print(f\"{'Auto Download Gambar IFS,WRF,ANGIN,SATELIT!!':^30}\")\n",
    "\n",
    "tanggal = datetime.date.today().strftime('%Y%m%d')"
   ]
  },
  {
   "cell_type": "code",
   "execution_count": 5,
   "id": "d7c108a5",
   "metadata": {},
   "outputs": [],
   "source": [
    "poe20 = \"https://web-meteo.bmkg.go.id//media/data/bmkg/probabilistic//POE20_24hrprec_\" + tanggal + \"000000_ifs.png\"\n",
    "poe10 = \"https://web-meteo.bmkg.go.id//media/data/bmkg/probabilistic//POE10_24hrprec_\" + tanggal + \"000000_ifs.png\"\n",
    "poe24 = \"https://web-meteo.bmkg.go.id//media/data/bmkg/probabilistic//POE5_24hrprec_\" + tanggal + \"000000_ifs.png\""
   ]
  },
  {
   "cell_type": "code",
   "execution_count": 6,
   "id": "2d51e6c5",
   "metadata": {},
   "outputs": [
    {
     "name": "stdout",
     "output_type": "stream",
     "text": [
      "https://web-meteo.bmkg.go.id//media/data/bmkg/probabilistic//POE10_24hrprec_20250413000000_ifs.png\n",
      "https://web-meteo.bmkg.go.id//media/data/bmkg/probabilistic//POE20_24hrprec_20250413000000_ifs.png\n",
      "https://web-meteo.bmkg.go.id//media/data/bmkg/probabilistic//POE5_24hrprec_20250413000000_ifs.png\n"
     ]
    }
   ],
   "source": [
    "print(poe10)\n",
    "print(poe20)\n",
    "print(poe24)"
   ]
  },
  {
   "cell_type": "code",
   "execution_count": 8,
   "id": "9785827e",
   "metadata": {},
   "outputs": [
    {
     "name": "stdout",
     "output_type": "stream",
     "text": [
      "POE20_24hrprec_20250413000000_ifs.png\n",
      "https://web-meteo.bmkg.go.id//media/data/bmkg/probabilistic//POE20_24hrprec_20250413000000_ifs.png Belum ada \n",
      "POE10_24hrprec_20250413000000_ifs.png\n",
      "https://web-meteo.bmkg.go.id//media/data/bmkg/probabilistic//POE10_24hrprec_20250413000000_ifs.png Belum ada \n",
      "POE5_24hrprec_20250413000000_ifs.png\n",
      "https://web-meteo.bmkg.go.id//media/data/bmkg/probabilistic//POE5_24hrprec_20250413000000_ifs.png Belum ada \n"
     ]
    }
   ],
   "source": [
    "uu = [poe20, poe10, poe24]\n",
    "for nn in uu:\n",
    "    try:\n",
    "        filename = os.path.basename(nn)  # ambil nama file dari URL\n",
    "        filenameonly = os.path.basename(nn)\n",
    "        print(filenameonly)\n",
    "        opener.retrieve(nn, fr'F:\\KANTOR\\gambar\\esembeldanprobabilistic{directory}\\{filename}')\n",
    "    except:\n",
    "        print(fr\"{nn} Belum ada \")"
   ]
  }
 ],
 "metadata": {
  "kernelspec": {
   "display_name": "Python 3",
   "language": "python",
   "name": "python3"
  },
  "language_info": {
   "codemirror_mode": {
    "name": "ipython",
    "version": 3
   },
   "file_extension": ".py",
   "mimetype": "text/x-python",
   "name": "python",
   "nbconvert_exporter": "python",
   "pygments_lexer": "ipython3",
   "version": "3.13.3"
  }
 },
 "nbformat": 4,
 "nbformat_minor": 5
}
