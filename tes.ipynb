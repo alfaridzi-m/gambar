{
 "cells": [
  {
   "cell_type": "code",
   "execution_count": 37,
   "id": "9294b1e5",
   "metadata": {},
   "outputs": [
    {
     "name": "stdout",
     "output_type": "stream",
     "text": [
      "G:\\My Drive\\BootCamp\\Bootcamp_Web\\Clone\n"
     ]
    },
    {
     "ename": "FileNotFoundError",
     "evalue": "[WinError 2] The system cannot find the file specified: 'test'",
     "output_type": "error",
     "traceback": [
      "\u001b[31m---------------------------------------------------------------------------\u001b[39m",
      "\u001b[31mFileNotFoundError\u001b[39m                         Traceback (most recent call last)",
      "\u001b[36mCell\u001b[39m\u001b[36m \u001b[39m\u001b[32mIn[37]\u001b[39m\u001b[32m, line 3\u001b[39m\n\u001b[32m      1\u001b[39m os.chdir(\u001b[33mfr\u001b[39m\u001b[33m\"\u001b[39m\u001b[33mG:\u001b[39m\u001b[33m\\\u001b[39m\u001b[33mMy Drive\u001b[39m\u001b[33m\\\u001b[39m\u001b[33mBootCamp\u001b[39m\u001b[33m\\\u001b[39m\u001b[33mBootcamp_Web\u001b[39m\u001b[33m\\\u001b[39m\u001b[33mClone\u001b[39m\u001b[33m\"\u001b[39m)\n\u001b[32m      2\u001b[39m \u001b[38;5;28mprint\u001b[39m(os.getcwd())\n\u001b[32m----> \u001b[39m\u001b[32m3\u001b[39m \u001b[43mos\u001b[49m\u001b[43m.\u001b[49m\u001b[43mrmdir\u001b[49m\u001b[43m(\u001b[49m\u001b[33;43m\"\u001b[39;49m\u001b[33;43mtest\u001b[39;49m\u001b[33;43m\"\u001b[39;49m\u001b[43m)\u001b[49m\n\u001b[32m      4\u001b[39m os.mkdir(\u001b[33m\"\u001b[39m\u001b[33mtest\u001b[39m\u001b[33m\"\u001b[39m)\n\u001b[32m      5\u001b[39m os.rmdir(\u001b[33m\"\u001b[39m\u001b[33mtest\u001b[39m\u001b[33m\"\u001b[39m)\n",
      "\u001b[31mFileNotFoundError\u001b[39m: [WinError 2] The system cannot find the file specified: 'test'"
     ]
    }
   ],
   "source": [
    "os.chdir(fr\"G:\\My Drive\\BootCamp\\Bootcamp_Web\\Clone\")\n",
    "print(os.getcwd())\n",
    "os.rmdir(\"test\")\n",
    "os.mkdir(\"test\")\n",
    "os.rmdir(\"test\")"
   ]
  },
  {
   "cell_type": "code",
   "execution_count": 40,
   "id": "fd926150",
   "metadata": {},
   "outputs": [
    {
     "name": "stdout",
     "output_type": "stream",
     "text": [
      "Auto Download Gambar IFS,WRF,ANGIN,SATELIT!!\n",
      "Hari ini adalah tanggal 14 April 2025 jam 01.09\n",
      "Silahkan tunggu proses download gambar Model analisa\n",
      "=====================================\n",
      "current dir G:\\My Drive\\BootCamp\\Bootcamp_Web\\Clone\n"
     ]
    },
    {
     "name": "stderr",
     "output_type": "stream",
     "text": [
      "<string>:55: SyntaxWarning: invalid escape sequence '\\{'\n",
      "<>:55: SyntaxWarning: invalid escape sequence '\\{'\n",
      "<string>:55: SyntaxWarning: invalid escape sequence '\\{'\n",
      "<>:55: SyntaxWarning: invalid escape sequence '\\{'\n",
      "C:\\Users\\alfar\\AppData\\Local\\Temp\\ipykernel_20448\\3321307730.py:55: SyntaxWarning: invalid escape sequence '\\{'\n",
      "  os.chdir(fr'{currnet_dir}\\{tanggal}') ; print(f\"Pindah ke directory {currnet_dir}\\{tanggal}\")\n",
      "C:\\Users\\alfar\\AppData\\Local\\Temp\\ipykernel_20448\\3321307730.py:55: SyntaxWarning: invalid escape sequence '\\{'\n",
      "  os.chdir(fr'{currnet_dir}\\{tanggal}') ; print(f\"Pindah ke directory {currnet_dir}\\{tanggal}\")\n"
     ]
    },
    {
     "ename": "PermissionError",
     "evalue": "[WinError 5] Access is denied: 'G:\\\\My Drive\\\\BootCamp\\\\Bootcamp_Web\\\\Clone\\\\20250414'",
     "output_type": "error",
     "traceback": [
      "\u001b[31m---------------------------------------------------------------------------\u001b[39m",
      "\u001b[31mPermissionError\u001b[39m                           Traceback (most recent call last)",
      "\u001b[36mCell\u001b[39m\u001b[36m \u001b[39m\u001b[32mIn[40]\u001b[39m\u001b[32m, line 55\u001b[39m\n\u001b[32m     51\u001b[39m     \u001b[38;5;28mprint\u001b[39m(\u001b[33mf\u001b[39m\u001b[33m\"\u001b[39m\u001b[33mmembuat folder \u001b[39m\u001b[38;5;132;01m{\u001b[39;00mtanggal\u001b[38;5;132;01m}\u001b[39;00m\u001b[33m baru\u001b[39m\u001b[33m\"\u001b[39m)\n\u001b[32m     52\u001b[39m     os.mkdir(tanggal) ; \u001b[38;5;28mprint\u001b[39m(\u001b[33mf\u001b[39m\u001b[33m\"\u001b[39m\u001b[33mfolder \u001b[39m\u001b[38;5;132;01m{\u001b[39;00mtanggal\u001b[38;5;132;01m}\u001b[39;00m\u001b[33m sudah dibuat\u001b[39m\u001b[33m\"\u001b[39m)\n\u001b[32m---> \u001b[39m\u001b[32m55\u001b[39m os.chdir(\u001b[33mfr\u001b[39m\u001b[33m'\u001b[39m\u001b[38;5;132;01m{\u001b[39;00mcurrnet_dir\u001b[38;5;132;01m}\u001b[39;00m\u001b[33m\\\u001b[39m\u001b[38;5;132;01m{\u001b[39;00mtanggal\u001b[38;5;132;01m}\u001b[39;00m\u001b[33m'\u001b[39m) ; \u001b[38;5;28mprint\u001b[39m(\u001b[33mf\u001b[39m\u001b[33m\"\u001b[39m\u001b[33mPindah ke directory \u001b[39m\u001b[38;5;132;01m{\u001b[39;00mcurrnet_dir\u001b[38;5;132;01m}\u001b[39;00m\u001b[33m\\\u001b[39m\u001b[38;5;132;01m{\u001b[39;00mtanggal\u001b[38;5;132;01m}\u001b[39;00m\u001b[33m\"\u001b[39m)\n\u001b[32m     57\u001b[39m \u001b[38;5;66;03m# print(f\"hari ini tanggal {xs}\")\u001b[39;00m\n\u001b[32m     58\u001b[39m opener = urllib.request.URLopener()\n",
      "\u001b[31mPermissionError\u001b[39m: [WinError 5] Access is denied: 'G:\\\\My Drive\\\\BootCamp\\\\Bootcamp_Web\\\\Clone\\\\20250414'"
     ]
    }
   ],
   "source": [
    "import ssl\n",
    "import urllib.request\n",
    "import time\n",
    "import datetime\n",
    "import os\n",
    "import winsound\n",
    "import shutil\n",
    "\n",
    "\n",
    "try:\n",
    "    _create_unverified_https_context = ssl._create_unverified_context\n",
    "except AttributeError:\n",
    "    # Legacy Python that doesn't verify HTTPS certificates by default\n",
    "    pass\n",
    "else:\n",
    "    # Handle target environment that doesn't support HTTPS verification\n",
    "    ssl._create_default_https_context = _create_unverified_https_context\n",
    "\n",
    "\n",
    "class color:\n",
    "    PURPLE = '\\033[95m'\n",
    "    CYAN = '\\033[96m'\n",
    "    DARKCYAN = '\\033[36m'\n",
    "    BLUE = '\\033[94m'\n",
    "    GREEN = '\\033[92m'\n",
    "    YELLOW = '\\033[93m'\n",
    "    RED = '\\033[91m'\n",
    "    BOLD = '\\033[1m'\n",
    "    UNDERLINE = '\\033[4m'\n",
    "    END = '\\033[0m'\n",
    "\n",
    "now = datetime.datetime.now()\n",
    "sekarang = now.strftime('%d %B %Y jam %H.%M')\n",
    "\n",
    "start =time.time()\n",
    "print(f\"{'Auto Download Gambar IFS,WRF,ANGIN,SATELIT!!'}\")\n",
    "print(f'Hari ini adalah tanggal {sekarang}')\n",
    "print(\"Silahkan tunggu proses download gambar Model analisa\")\n",
    "\n",
    "tanggal = datetime.date.today().strftime('%Y%m%d')\n",
    "xs = datetime.date.today() + datetime.timedelta(days=1)\n",
    "tanggal2 = xs.strftime('%Y%m%d')\n",
    "print(\"=====================================\")\n",
    "\n",
    "folder = str(tanggal)\n",
    "currnet_dir = os.getcwd() ; print(f\"current dir {currnet_dir}\")\n",
    "if os.path.exists(fr\"currnet_dir\\{tanggal}\") == True:\n",
    "    print(f\"folder {tanggal} sudah ada\")\n",
    "    os.rmdir(tanggal)\n",
    "    print(f\"folder {tanggal} sudah dihapus\")\n",
    "    print(f\"membuat folder {tanggal} baru\")\n",
    "    os.mkdir(tanggal) ; print(f\"folder {tanggal} sudah dibuat\")\n",
    "\n",
    "\n",
    "os.chdir(fr'{currnet_dir}\\{tanggal}') ; print(f\"Pindah ke directory {currnet_dir}\\{tanggal}\")\n",
    "\n",
    "# print(f\"hari ini tanggal {xs}\")\n",
    "opener = urllib.request.URLopener()\n",
    "opener.addheader('User-Agent', 'Mozilla/5.0 (Windows NT 10.0; Win64; x64) AppleWebKit/537.36 (KHTML, like Gecko) Chrome/97.0.4692.99 Safari/537.36')\n",
    "opener.addheader('Accept', 'text/html,application/xhtml+xml,application/xml;q=0.9,image/webp,*/*;q=0.8')\n",
    "opener.addheader('Accept-Language', 'en-US,en;q=0.5')\n",
    "\n",
    "def program1(tanggal,tanggal2):\n",
    "    j = ['08','14','20']\n",
    "    for jam1 in j:\n",
    "        ifs = \"https://web-meteo.bmkg.go.id//media/data/bmkg/mfy/ecmwf/prakiraan/Backup/RAIN/rainrate_ifs0p125_sfc_\" + tanggal + jam1 + \"0000.png\"\n",
    "        print(ifs)\n",
    "        try:\n",
    "            opener.retrieve(ifs, fr'\\ifs' + jam1 + '_' + tanggal + '.webp')\n",
    "        except:\n",
    "            print(fr\"Sepertinya link IFS {tanggal}{jam1} gagal di download\")\n",
    "\n",
    "    jam02 = \"https://web-meteo.bmkg.go.id//media/data/bmkg/mfy/ecmwf/prakiraan/Backup/RAIN/rainrate_ifs0p125_sfc_\" + tanggal2 + \"020000.png\"\n",
    "    try:\n",
    "        opener.retrieve(jam02, fr'\\ifs' + \"26\" + '_' + tanggal + '.png')\n",
    "    except:\n",
    "        print(fr\"Sepertinya link IFS 26_{tanggal} gagal di download\")\n",
    "\n",
    "    j2 = ['01','07','13','19']\n",
    "    for jam2 in j2:\n",
    "        wrf = \"https://web-meteo.bmkg.go.id//media/data/bmkg/mfy/wrf/prakiraan/RAIN/rainrate_wrf10km_sfc_\" + tanggal + jam2 + \"0000.png\"\n",
    "        print(wrf)\n",
    "        try:\n",
    "            opener.retrieve(wrf, fr'\\wrf' + jam2 + '_' + tanggal + '.png')\n",
    "        except:\n",
    "            print(fr\"Sepertinya link wrf {tanggal}{jam2} gagal di download\")\n",
    "\n",
    "program1(tanggal,tanggal2)\n",
    "os.chdir(fr\"G:\\My Drive\\BootCamp\\Bootcamp_Web\\Clone\")\n",
    "\n",
    "print(\"=====================================\")\n",
    "\n"
   ]
  },
  {
   "cell_type": "code",
   "execution_count": 12,
   "id": "eb55c1b0",
   "metadata": {},
   "outputs": [
    {
     "name": "stdout",
     "output_type": "stream",
     "text": [
      "\\ifs20250414.webp\n",
      "G:\\My Drive\\BootCamp\\Bootcamp_Web\\Clone\n"
     ]
    }
   ],
   "source": [
    "print(fr\"\\ifs{tanggal}.webp\")\n",
    "print(currnet_dir)"
   ]
  },
  {
   "cell_type": "code",
   "execution_count": 1,
   "id": "01e3c6dc",
   "metadata": {},
   "outputs": [],
   "source": [
    "import ssl\n",
    "import urllib.request\n",
    "import time\n",
    "import datetime\n",
    "import os\n",
    "import winsound"
   ]
  },
  {
   "cell_type": "code",
   "execution_count": 2,
   "id": "27494c51",
   "metadata": {},
   "outputs": [
    {
     "name": "stdout",
     "output_type": "stream",
     "text": [
      "Folder 20250414 created\n",
      "Changed directory to 20250414\n",
      "Current directory is g:\\My Drive\\BootCamp\\Bootcamp_Web\\Clone\\20250414\n"
     ]
    }
   ],
   "source": [
    "import os\n",
    "import datetime\n",
    "currnet_dir = os.getcwd()\n",
    "\n",
    "tanggal = datetime.date.today().strftime('%Y%m%d')\n",
    "os.mkdir(fr'{tanggal}'); print(f'Folder {tanggal} created')\n",
    "os.chdir(fr'{tanggal}'); print(f'Changed directory to {tanggal}')\n",
    "currnet_dir2 = os.getcwd()\n",
    "print(f'Current directory is {currnet_dir2}')\n",
    "\n"
   ]
  },
  {
   "cell_type": "code",
   "execution_count": 3,
   "id": "d3a38362",
   "metadata": {},
   "outputs": [
    {
     "name": "stdout",
     "output_type": "stream",
     "text": [
      "Auto Download Gambar IFS,WRF,ANGIN,SATELIT!!\n"
     ]
    }
   ],
   "source": [
    "import datetime\n",
    "import time\n",
    "now = datetime.datetime.now()\n",
    "sekarang = now.strftime('%d %B %Y jam %H.%M')\n",
    "\n",
    "start =time.time()\n",
    "print(f\"{'Auto Download Gambar IFS,WRF,ANGIN,SATELIT!!':^30}\")\n",
    "\n",
    "tanggal = datetime.date.today().strftime('%Y%m%d')"
   ]
  },
  {
   "cell_type": "code",
   "execution_count": 5,
   "id": "d7c108a5",
   "metadata": {},
   "outputs": [],
   "source": [
    "poe20 = \"https://web-meteo.bmkg.go.id//media/data/bmkg/probabilistic//POE20_24hrprec_\" + tanggal + \"000000_ifs.png\"\n",
    "poe10 = \"https://web-meteo.bmkg.go.id//media/data/bmkg/probabilistic//POE10_24hrprec_\" + tanggal + \"000000_ifs.png\"\n",
    "poe24 = \"https://web-meteo.bmkg.go.id//media/data/bmkg/probabilistic//POE5_24hrprec_\" + tanggal + \"000000_ifs.png\""
   ]
  },
  {
   "cell_type": "code",
   "execution_count": 6,
   "id": "2d51e6c5",
   "metadata": {},
   "outputs": [
    {
     "name": "stdout",
     "output_type": "stream",
     "text": [
      "https://web-meteo.bmkg.go.id//media/data/bmkg/probabilistic//POE10_24hrprec_20250413000000_ifs.png\n",
      "https://web-meteo.bmkg.go.id//media/data/bmkg/probabilistic//POE20_24hrprec_20250413000000_ifs.png\n",
      "https://web-meteo.bmkg.go.id//media/data/bmkg/probabilistic//POE5_24hrprec_20250413000000_ifs.png\n"
     ]
    }
   ],
   "source": [
    "print(poe10)\n",
    "print(poe20)\n",
    "print(poe24)"
   ]
  },
  {
   "cell_type": "code",
   "execution_count": 8,
   "id": "9785827e",
   "metadata": {},
   "outputs": [
    {
     "name": "stdout",
     "output_type": "stream",
     "text": [
      "POE20_24hrprec_20250413000000_ifs.png\n",
      "https://web-meteo.bmkg.go.id//media/data/bmkg/probabilistic//POE20_24hrprec_20250413000000_ifs.png Belum ada \n",
      "POE10_24hrprec_20250413000000_ifs.png\n",
      "https://web-meteo.bmkg.go.id//media/data/bmkg/probabilistic//POE10_24hrprec_20250413000000_ifs.png Belum ada \n",
      "POE5_24hrprec_20250413000000_ifs.png\n",
      "https://web-meteo.bmkg.go.id//media/data/bmkg/probabilistic//POE5_24hrprec_20250413000000_ifs.png Belum ada \n"
     ]
    }
   ],
   "source": [
    "uu = [poe20, poe10, poe24]\n",
    "for nn in uu:\n",
    "    try:\n",
    "        filename = os.path.basename(nn)  # ambil nama file dari URL\n",
    "        filenameonly = os.path.basename(nn)\n",
    "        print(filenameonly)\n",
    "        opener.retrieve(nn, fr'F:\\KANTOR\\gambar\\esembeldanprobabilistic{directory}\\{filename}')\n",
    "    except:\n",
    "        print(fr\"{nn} Belum ada \")"
   ]
  }
 ],
 "metadata": {
  "kernelspec": {
   "display_name": "Python 3",
   "language": "python",
   "name": "python3"
  },
  "language_info": {
   "codemirror_mode": {
    "name": "ipython",
    "version": 3
   },
   "file_extension": ".py",
   "mimetype": "text/x-python",
   "name": "python",
   "nbconvert_exporter": "python",
   "pygments_lexer": "ipython3",
   "version": "3.13.3"
  }
 },
 "nbformat": 4,
 "nbformat_minor": 5
}
