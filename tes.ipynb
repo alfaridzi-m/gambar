{
 "cells": [
  {
   "cell_type": "code",
   "execution_count": 1,
   "id": "27494c51",
   "metadata": {},
   "outputs": [
    {
     "name": "stdout",
     "output_type": "stream",
     "text": [
      "Current Directory: g:\\My Drive\\BootCamp\\Bootcamp_Web\\Clone\n"
     ]
    }
   ],
   "source": [
    "import os\n",
    "currnet_dir = os.getcwd()\n",
    "\n",
    "print(\"Current Directory:\", currnet_dir)"
   ]
  },
  {
   "cell_type": "code",
   "execution_count": 3,
   "id": "d3a38362",
   "metadata": {},
   "outputs": [
    {
     "name": "stdout",
     "output_type": "stream",
     "text": [
      "Auto Download Gambar IFS,WRF,ANGIN,SATELIT!!\n"
     ]
    }
   ],
   "source": [
    "import datetime\n",
    "import time\n",
    "now = datetime.datetime.now()\n",
    "sekarang = now.strftime('%d %B %Y jam %H.%M')\n",
    "\n",
    "start =time.time()\n",
    "print(f\"{'Auto Download Gambar IFS,WRF,ANGIN,SATELIT!!':^30}\")\n",
    "\n",
    "tanggal = datetime.date.today().strftime('%Y%m%d')"
   ]
  },
  {
   "cell_type": "code",
   "execution_count": 5,
   "id": "d7c108a5",
   "metadata": {},
   "outputs": [],
   "source": [
    "poe20 = \"https://web-meteo.bmkg.go.id//media/data/bmkg/probabilistic//POE20_24hrprec_\" + tanggal + \"000000_ifs.png\"\n",
    "poe10 = \"https://web-meteo.bmkg.go.id//media/data/bmkg/probabilistic//POE10_24hrprec_\" + tanggal + \"000000_ifs.png\"\n",
    "poe24 = \"https://web-meteo.bmkg.go.id//media/data/bmkg/probabilistic//POE5_24hrprec_\" + tanggal + \"000000_ifs.png\""
   ]
  },
  {
   "cell_type": "code",
   "execution_count": 6,
   "id": "2d51e6c5",
   "metadata": {},
   "outputs": [
    {
     "name": "stdout",
     "output_type": "stream",
     "text": [
      "https://web-meteo.bmkg.go.id//media/data/bmkg/probabilistic//POE10_24hrprec_20250413000000_ifs.png\n",
      "https://web-meteo.bmkg.go.id//media/data/bmkg/probabilistic//POE20_24hrprec_20250413000000_ifs.png\n",
      "https://web-meteo.bmkg.go.id//media/data/bmkg/probabilistic//POE5_24hrprec_20250413000000_ifs.png\n"
     ]
    }
   ],
   "source": [
    "print(poe10)\n",
    "print(poe20)\n",
    "print(poe24)"
   ]
  },
  {
   "cell_type": "code",
   "execution_count": 8,
   "id": "9785827e",
   "metadata": {},
   "outputs": [
    {
     "name": "stdout",
     "output_type": "stream",
     "text": [
      "POE20_24hrprec_20250413000000_ifs.png\n",
      "https://web-meteo.bmkg.go.id//media/data/bmkg/probabilistic//POE20_24hrprec_20250413000000_ifs.png Belum ada \n",
      "POE10_24hrprec_20250413000000_ifs.png\n",
      "https://web-meteo.bmkg.go.id//media/data/bmkg/probabilistic//POE10_24hrprec_20250413000000_ifs.png Belum ada \n",
      "POE5_24hrprec_20250413000000_ifs.png\n",
      "https://web-meteo.bmkg.go.id//media/data/bmkg/probabilistic//POE5_24hrprec_20250413000000_ifs.png Belum ada \n"
     ]
    }
   ],
   "source": [
    "uu = [poe20, poe10, poe24]\n",
    "for nn in uu:\n",
    "    try:\n",
    "        filename = os.path.basename(nn)  # ambil nama file dari URL\n",
    "        filenameonly = os.path.basename(nn)\n",
    "        print(filenameonly)\n",
    "        opener.retrieve(nn, fr'F:\\KANTOR\\gambar\\esembeldanprobabilistic{directory}\\{filename}')\n",
    "    except:\n",
    "        print(fr\"{nn} Belum ada \")"
   ]
  }
 ],
 "metadata": {
  "kernelspec": {
   "display_name": "base",
   "language": "python",
   "name": "python3"
  },
  "language_info": {
   "codemirror_mode": {
    "name": "ipython",
    "version": 3
   },
   "file_extension": ".py",
   "mimetype": "text/x-python",
   "name": "python",
   "nbconvert_exporter": "python",
   "pygments_lexer": "ipython3",
   "version": "3.11.7"
  }
 },
 "nbformat": 4,
 "nbformat_minor": 5
}
